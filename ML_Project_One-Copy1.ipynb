{
 "cells": [
  {
   "cell_type": "code",
   "execution_count": 1,
   "metadata": {},
   "outputs": [
    {
     "name": "stdout",
     "output_type": "stream",
     "text": [
      "ad3\\sbharadw, please provide your password (text will be hidden) \n",
      ">>········\n",
      "save password? [y/n] /n after saving, set username = 'file' to use this feature \n",
      ">>y\n"
     ]
    }
   ],
   "source": [
    "%load_ext autoreload\n",
    "%autoreload 2\n",
    "\n",
    "import pandas as pd\n",
    "import matplotlib.pyplot as plt\n",
    "import seaborn as sns\n",
    "from ecotools.pi_client import pi_client\n",
    "\n",
    "sns.set('paper')\n",
    "# Option Paramater time_zone\n",
    "# default timezone is time_zone='America/Los_Angeles' use https://www.iana.org/time-zones \n",
    "\n",
    "#pi = pi_client(username= r'ad3\\username')\n",
    "pi = pi_client(username = r'ad3\\sbharadw')"
   ]
  },
  {
   "cell_type": "code",
   "execution_count": 36,
   "metadata": {},
   "outputs": [
    {
     "data": {
      "text/plain": [
       "['Veihmeyer_ChilledWater_Demand_kBtu',\n",
       " 'Veihmeyer_Hall_Electricity_Demand_kBtu',\n",
       " 'Veihmeyer_Steam_Demand_kBtu']"
      ]
     },
     "execution_count": 36,
     "metadata": {},
     "output_type": "execute_result"
    }
   ],
   "source": [
    "# tags = pi.search_by_point(['aiTIT4045*'])\n",
    "\n",
    "tag1 = pi.search_by_point(['Veihmeyer_ChilledWater_Demand_kBtu','Veihmeyer_Hall_Electricity_Demand_kBtu',\n",
    " 'Veihmeyer_Steam_Demand_kBtu' ])\n",
    "\n",
    "tag1"
   ]
  },
  {
   "cell_type": "code",
   "execution_count": 41,
   "metadata": {},
   "outputs": [
    {
     "name": "stdout",
     "output_type": "stream",
     "text": [
      "11:43:14: Sending API request... Chunk 1 of 1\n",
      "11:43:15: Response recieved for 3 tags! (1.0)\n"
     ]
    },
    {
     "data": {
      "text/html": [
       "<div>\n",
       "<style scoped>\n",
       "    .dataframe tbody tr th:only-of-type {\n",
       "        vertical-align: middle;\n",
       "    }\n",
       "\n",
       "    .dataframe tbody tr th {\n",
       "        vertical-align: top;\n",
       "    }\n",
       "\n",
       "    .dataframe thead th {\n",
       "        text-align: right;\n",
       "    }\n",
       "</style>\n",
       "<table border=\"1\" class=\"dataframe\">\n",
       "  <thead>\n",
       "    <tr style=\"text-align: right;\">\n",
       "      <th></th>\n",
       "      <th>Veihmeyer_ChilledWater_Demand_kBtu</th>\n",
       "      <th>Veihmeyer_Hall_Electricity_Demand_kBtu</th>\n",
       "      <th>Veihmeyer_Steam_Demand_kBtu</th>\n",
       "    </tr>\n",
       "    <tr>\n",
       "      <th>Timestamp</th>\n",
       "      <th></th>\n",
       "      <th></th>\n",
       "      <th></th>\n",
       "    </tr>\n",
       "  </thead>\n",
       "  <tbody>\n",
       "    <tr>\n",
       "      <th>2018-10-30 00:00:00</th>\n",
       "      <td>None</td>\n",
       "      <td>124.127519</td>\n",
       "      <td>291.177358</td>\n",
       "    </tr>\n",
       "    <tr>\n",
       "      <th>2018-10-30 01:00:00</th>\n",
       "      <td>None</td>\n",
       "      <td>113.880967</td>\n",
       "      <td>300.039543</td>\n",
       "    </tr>\n",
       "    <tr>\n",
       "      <th>2018-10-30 02:00:00</th>\n",
       "      <td>None</td>\n",
       "      <td>114.169600</td>\n",
       "      <td>308.106128</td>\n",
       "    </tr>\n",
       "    <tr>\n",
       "      <th>2018-10-30 03:00:00</th>\n",
       "      <td>None</td>\n",
       "      <td>116.708600</td>\n",
       "      <td>300.566314</td>\n",
       "    </tr>\n",
       "    <tr>\n",
       "      <th>2018-10-30 04:00:00</th>\n",
       "      <td>None</td>\n",
       "      <td>119.921305</td>\n",
       "      <td>301.616992</td>\n",
       "    </tr>\n",
       "  </tbody>\n",
       "</table>\n",
       "</div>"
      ],
      "text/plain": [
       "                    Veihmeyer_ChilledWater_Demand_kBtu  \\\n",
       "Timestamp                                                \n",
       "2018-10-30 00:00:00                               None   \n",
       "2018-10-30 01:00:00                               None   \n",
       "2018-10-30 02:00:00                               None   \n",
       "2018-10-30 03:00:00                               None   \n",
       "2018-10-30 04:00:00                               None   \n",
       "\n",
       "                     Veihmeyer_Hall_Electricity_Demand_kBtu  \\\n",
       "Timestamp                                                     \n",
       "2018-10-30 00:00:00                              124.127519   \n",
       "2018-10-30 01:00:00                              113.880967   \n",
       "2018-10-30 02:00:00                              114.169600   \n",
       "2018-10-30 03:00:00                              116.708600   \n",
       "2018-10-30 04:00:00                              119.921305   \n",
       "\n",
       "                     Veihmeyer_Steam_Demand_kBtu  \n",
       "Timestamp                                         \n",
       "2018-10-30 00:00:00                   291.177358  \n",
       "2018-10-30 01:00:00                   300.039543  \n",
       "2018-10-30 02:00:00                   308.106128  \n",
       "2018-10-30 03:00:00                   300.566314  \n",
       "2018-10-30 04:00:00                   301.616992  "
      ]
     },
     "execution_count": 41,
     "metadata": {},
     "output_type": "execute_result"
    }
   ],
   "source": [
    "# Required parameters\n",
    "start = '2018-10-30'\n",
    "end = '2019-10-30'    \n",
    "\n",
    "calc = 'summary' # Can be 'summary', 'interpolated', or 'recorded'\n",
    "interval = '1h' # Can be '15min', '1h', '1d', or '1mo'   \n",
    "\n",
    "# Extras\n",
    "chunk_size = 10\n",
    "weight = 'TimeWeighted'\n",
    "summary_calc = 'average' # Can be 'average', 'minimum', 'maximum', 'range', 'stddev', 'count', 'percentgood', 'max', 'total', 'none', 'all'\n",
    "max_count = round(1500000/len(tag1))\n",
    "\n",
    "df = pi.get_stream_by_point(tag1, start=start, end=end, _convert_cols=False, calculation=calc, \n",
    "                            interval=interval, _weight=weight, _summary_type=summary_calc, _max_count=max_count, \n",
    "                            _chunk_size=chunk_size)\n",
    "df.head()"
   ]
  },
  {
   "cell_type": "code",
   "execution_count": 38,
   "metadata": {},
   "outputs": [
    {
     "data": {
      "text/plain": [
       "Text(0, 0.5, 'Demand kBtu')"
      ]
     },
     "execution_count": 38,
     "metadata": {},
     "output_type": "execute_result"
    },
    {
     "data": {
      "image/png": "[encoded data removed]",
      "text/plain": [
       "<Figure size 1296x360 with 1 Axes>"
      ]
     },
     "metadata": {},
     "output_type": "display_data"
    }
   ],
   "source": [
    "df.plot(figsize=(18,5))\n",
    "plt.title('Demand kBtu vs Air Temperature')\n",
    "plt.xlabel('Timestamp')\n",
    "plt.ylabel('Demand kBtu')"
   ]
  },
  {
   "cell_type": "code",
   "execution_count": null,
   "metadata": {},
   "outputs": [],
   "source": []
  },
  {
   "cell_type": "code",
   "execution_count": 42,
   "metadata": {},
   "outputs": [
    {
     "data": {
      "text/plain": [
       "Veihmeyer_ChilledWater_Demand_kBtu        0.000000e+00\n",
       "Veihmeyer_Hall_Electricity_Demand_kBtu    1.164884e+06\n",
       "Veihmeyer_Steam_Demand_kBtu               3.399877e+06\n",
       "dtype: float64"
      ]
     },
     "execution_count": 42,
     "metadata": {},
     "output_type": "execute_result"
    }
   ],
   "source": [
    "df.sum()"
   ]
  },
  {
   "cell_type": "code",
   "execution_count": 43,
   "metadata": {},
   "outputs": [
    {
     "data": {
      "text/plain": [
       "Veihmeyer_ChilledWater_Demand_kBtu          0.000000\n",
       "Veihmeyer_Hall_Electricity_Demand_kBtu     40.581222\n",
       "Veihmeyer_Steam_Demand_kBtu               118.441982\n",
       "dtype: float64"
      ]
     },
     "execution_count": 43,
     "metadata": {},
     "output_type": "execute_result"
    }
   ],
   "source": [
    "df.sum() / 28705"
   ]
  },
  {
   "cell_type": "code",
   "execution_count": 27,
   "metadata": {},
   "outputs": [],
   "source": [
    "df.dropna(inplace=True)"
   ]
  },
  {
   "cell_type": "code",
   "execution_count": 28,
   "metadata": {},
   "outputs": [
    {
     "data": {
      "text/plain": [
       "(Veihmeyer_ChilledWater_Demand_kBtu        0.0\n",
       " Veihmeyer_Hall_Electricity_Demand_kBtu    0.0\n",
       " Veihmeyer_Steam_Demand_kBtu               0.0\n",
       " dtype: float64,\n",
       " 705)"
      ]
     },
     "execution_count": 28,
     "metadata": {},
     "output_type": "execute_result"
    }
   ],
   "source": [
    "df.sum() / 28,705"
   ]
  },
  {
   "cell_type": "code",
   "execution_count": 29,
   "metadata": {},
   "outputs": [
    {
     "data": {
      "text/plain": [
       "Veihmeyer_ChilledWater_Demand_kBtu        0.0\n",
       "Veihmeyer_Hall_Electricity_Demand_kBtu    0.0\n",
       "Veihmeyer_Steam_Demand_kBtu               0.0\n",
       "dtype: float64"
      ]
     },
     "execution_count": 29,
     "metadata": {},
     "output_type": "execute_result"
    }
   ],
   "source": [
    "df.sum()"
   ]
  },
  {
   "cell_type": "markdown",
   "metadata": {},
   "source": [
    "# 1. Linear Regression"
   ]
  },
  {
   "cell_type": "code",
   "execution_count": 11,
   "metadata": {},
   "outputs": [
    {
     "ename": "KeyError",
     "evalue": "'Ghausi_ChilledWater_Demand_kBtu'",
     "output_type": "error",
     "traceback": [
      "\u001b[0;31m---------------------------------------------------------------------------\u001b[0m",
      "\u001b[0;31mKeyError\u001b[0m                                  Traceback (most recent call last)",
      "\u001b[0;32m~/opt/anaconda3/lib/python3.8/site-packages/pandas/core/indexes/base.py\u001b[0m in \u001b[0;36mget_loc\u001b[0;34m(self, key, method, tolerance)\u001b[0m\n\u001b[1;32m   2894\u001b[0m             \u001b[0;32mtry\u001b[0m\u001b[0;34m:\u001b[0m\u001b[0;34m\u001b[0m\u001b[0;34m\u001b[0m\u001b[0m\n\u001b[0;32m-> 2895\u001b[0;31m                 \u001b[0;32mreturn\u001b[0m \u001b[0mself\u001b[0m\u001b[0;34m.\u001b[0m\u001b[0m_engine\u001b[0m\u001b[0;34m.\u001b[0m\u001b[0mget_loc\u001b[0m\u001b[0;34m(\u001b[0m\u001b[0mcasted_key\u001b[0m\u001b[0;34m)\u001b[0m\u001b[0;34m\u001b[0m\u001b[0;34m\u001b[0m\u001b[0m\n\u001b[0m\u001b[1;32m   2896\u001b[0m             \u001b[0;32mexcept\u001b[0m \u001b[0mKeyError\u001b[0m \u001b[0;32mas\u001b[0m \u001b[0merr\u001b[0m\u001b[0;34m:\u001b[0m\u001b[0;34m\u001b[0m\u001b[0;34m\u001b[0m\u001b[0m\n",
      "\u001b[0;32mpandas/_libs/index.pyx\u001b[0m in \u001b[0;36mpandas._libs.index.IndexEngine.get_loc\u001b[0;34m()\u001b[0m\n",
      "\u001b[0;32mpandas/_libs/index.pyx\u001b[0m in \u001b[0;36mpandas._libs.index.IndexEngine.get_loc\u001b[0;34m()\u001b[0m\n",
      "\u001b[0;32mpandas/_libs/hashtable_class_helper.pxi\u001b[0m in \u001b[0;36mpandas._libs.hashtable.PyObjectHashTable.get_item\u001b[0;34m()\u001b[0m\n",
      "\u001b[0;32mpandas/_libs/hashtable_class_helper.pxi\u001b[0m in \u001b[0;36mpandas._libs.hashtable.PyObjectHashTable.get_item\u001b[0;34m()\u001b[0m\n",
      "\u001b[0;31mKeyError\u001b[0m: 'Ghausi_ChilledWater_Demand_kBtu'",
      "\nThe above exception was the direct cause of the following exception:\n",
      "\u001b[0;31mKeyError\u001b[0m                                  Traceback (most recent call last)",
      "\u001b[0;32m<ipython-input-11-4b70226221ff>\u001b[0m in \u001b[0;36m<module>\u001b[0;34m\u001b[0m\n\u001b[0;32m----> 1\u001b[0;31m \u001b[0mdf\u001b[0m\u001b[0;34m.\u001b[0m\u001b[0mplot\u001b[0m\u001b[0;34m(\u001b[0m\u001b[0mx\u001b[0m\u001b[0;34m=\u001b[0m\u001b[0;34m'Ghausi_ChilledWater_Demand_kBtu'\u001b[0m\u001b[0;34m,\u001b[0m \u001b[0my\u001b[0m\u001b[0;34m=\u001b[0m\u001b[0;34m'aiTIT4045'\u001b[0m\u001b[0;34m,\u001b[0m \u001b[0mstyle\u001b[0m\u001b[0;34m=\u001b[0m\u001b[0;34m'o'\u001b[0m\u001b[0;34m)\u001b[0m\u001b[0;34m\u001b[0m\u001b[0;34m\u001b[0m\u001b[0m\n\u001b[0m\u001b[1;32m      2\u001b[0m \u001b[0mplt\u001b[0m\u001b[0;34m.\u001b[0m\u001b[0mtitle\u001b[0m\u001b[0;34m(\u001b[0m\u001b[0;34m'Demand kBtu vs Air Temperature'\u001b[0m\u001b[0;34m)\u001b[0m\u001b[0;34m\u001b[0m\u001b[0;34m\u001b[0m\u001b[0m\n\u001b[1;32m      3\u001b[0m \u001b[0mplt\u001b[0m\u001b[0;34m.\u001b[0m\u001b[0mylabel\u001b[0m\u001b[0;34m(\u001b[0m\u001b[0;34m'Ghausi Demand kBtu'\u001b[0m\u001b[0;34m)\u001b[0m\u001b[0;34m\u001b[0m\u001b[0;34m\u001b[0m\u001b[0m\n\u001b[1;32m      4\u001b[0m \u001b[0mplt\u001b[0m\u001b[0;34m.\u001b[0m\u001b[0mxlabel\u001b[0m\u001b[0;34m(\u001b[0m\u001b[0;34m'Air Temperature'\u001b[0m\u001b[0;34m)\u001b[0m\u001b[0;34m\u001b[0m\u001b[0;34m\u001b[0m\u001b[0m\n\u001b[1;32m      5\u001b[0m \u001b[0mplt\u001b[0m\u001b[0;34m.\u001b[0m\u001b[0mshow\u001b[0m\u001b[0;34m(\u001b[0m\u001b[0;34m)\u001b[0m\u001b[0;34m\u001b[0m\u001b[0;34m\u001b[0m\u001b[0m\n",
      "\u001b[0;32m~/opt/anaconda3/lib/python3.8/site-packages/pandas/plotting/_core.py\u001b[0m in \u001b[0;36m__call__\u001b[0;34m(self, *args, **kwargs)\u001b[0m\n\u001b[1;32m    912\u001b[0m                 \u001b[0;32mif\u001b[0m \u001b[0mis_integer\u001b[0m\u001b[0;34m(\u001b[0m\u001b[0mx\u001b[0m\u001b[0;34m)\u001b[0m \u001b[0;32mand\u001b[0m \u001b[0;32mnot\u001b[0m \u001b[0mdata\u001b[0m\u001b[0;34m.\u001b[0m\u001b[0mcolumns\u001b[0m\u001b[0;34m.\u001b[0m\u001b[0mholds_integer\u001b[0m\u001b[0;34m(\u001b[0m\u001b[0;34m)\u001b[0m\u001b[0;34m:\u001b[0m\u001b[0;34m\u001b[0m\u001b[0;34m\u001b[0m\u001b[0m\n\u001b[1;32m    913\u001b[0m                     \u001b[0mx\u001b[0m \u001b[0;34m=\u001b[0m \u001b[0mdata_cols\u001b[0m\u001b[0;34m[\u001b[0m\u001b[0mx\u001b[0m\u001b[0;34m]\u001b[0m\u001b[0;34m\u001b[0m\u001b[0;34m\u001b[0m\u001b[0m\n\u001b[0;32m--> 914\u001b[0;31m                 \u001b[0;32melif\u001b[0m \u001b[0;32mnot\u001b[0m \u001b[0misinstance\u001b[0m\u001b[0;34m(\u001b[0m\u001b[0mdata\u001b[0m\u001b[0;34m[\u001b[0m\u001b[0mx\u001b[0m\u001b[0;34m]\u001b[0m\u001b[0;34m,\u001b[0m \u001b[0mABCSeries\u001b[0m\u001b[0;34m)\u001b[0m\u001b[0;34m:\u001b[0m\u001b[0;34m\u001b[0m\u001b[0;34m\u001b[0m\u001b[0m\n\u001b[0m\u001b[1;32m    915\u001b[0m                     \u001b[0;32mraise\u001b[0m \u001b[0mValueError\u001b[0m\u001b[0;34m(\u001b[0m\u001b[0;34m\"x must be a label or position\"\u001b[0m\u001b[0;34m)\u001b[0m\u001b[0;34m\u001b[0m\u001b[0;34m\u001b[0m\u001b[0m\n\u001b[1;32m    916\u001b[0m                 \u001b[0mdata\u001b[0m \u001b[0;34m=\u001b[0m \u001b[0mdata\u001b[0m\u001b[0;34m.\u001b[0m\u001b[0mset_index\u001b[0m\u001b[0;34m(\u001b[0m\u001b[0mx\u001b[0m\u001b[0;34m)\u001b[0m\u001b[0;34m\u001b[0m\u001b[0;34m\u001b[0m\u001b[0m\n",
      "\u001b[0;32m~/opt/anaconda3/lib/python3.8/site-packages/pandas/core/frame.py\u001b[0m in \u001b[0;36m__getitem__\u001b[0;34m(self, key)\u001b[0m\n\u001b[1;32m   2900\u001b[0m             \u001b[0;32mif\u001b[0m \u001b[0mself\u001b[0m\u001b[0;34m.\u001b[0m\u001b[0mcolumns\u001b[0m\u001b[0;34m.\u001b[0m\u001b[0mnlevels\u001b[0m \u001b[0;34m>\u001b[0m \u001b[0;36m1\u001b[0m\u001b[0;34m:\u001b[0m\u001b[0;34m\u001b[0m\u001b[0;34m\u001b[0m\u001b[0m\n\u001b[1;32m   2901\u001b[0m                 \u001b[0;32mreturn\u001b[0m \u001b[0mself\u001b[0m\u001b[0;34m.\u001b[0m\u001b[0m_getitem_multilevel\u001b[0m\u001b[0;34m(\u001b[0m\u001b[0mkey\u001b[0m\u001b[0;34m)\u001b[0m\u001b[0;34m\u001b[0m\u001b[0;34m\u001b[0m\u001b[0m\n\u001b[0;32m-> 2902\u001b[0;31m             \u001b[0mindexer\u001b[0m \u001b[0;34m=\u001b[0m \u001b[0mself\u001b[0m\u001b[0;34m.\u001b[0m\u001b[0mcolumns\u001b[0m\u001b[0;34m.\u001b[0m\u001b[0mget_loc\u001b[0m\u001b[0;34m(\u001b[0m\u001b[0mkey\u001b[0m\u001b[0;34m)\u001b[0m\u001b[0;34m\u001b[0m\u001b[0;34m\u001b[0m\u001b[0m\n\u001b[0m\u001b[1;32m   2903\u001b[0m             \u001b[0;32mif\u001b[0m \u001b[0mis_integer\u001b[0m\u001b[0;34m(\u001b[0m\u001b[0mindexer\u001b[0m\u001b[0;34m)\u001b[0m\u001b[0;34m:\u001b[0m\u001b[0;34m\u001b[0m\u001b[0;34m\u001b[0m\u001b[0m\n\u001b[1;32m   2904\u001b[0m                 \u001b[0mindexer\u001b[0m \u001b[0;34m=\u001b[0m \u001b[0;34m[\u001b[0m\u001b[0mindexer\u001b[0m\u001b[0;34m]\u001b[0m\u001b[0;34m\u001b[0m\u001b[0;34m\u001b[0m\u001b[0m\n",
      "\u001b[0;32m~/opt/anaconda3/lib/python3.8/site-packages/pandas/core/indexes/base.py\u001b[0m in \u001b[0;36mget_loc\u001b[0;34m(self, key, method, tolerance)\u001b[0m\n\u001b[1;32m   2895\u001b[0m                 \u001b[0;32mreturn\u001b[0m \u001b[0mself\u001b[0m\u001b[0;34m.\u001b[0m\u001b[0m_engine\u001b[0m\u001b[0;34m.\u001b[0m\u001b[0mget_loc\u001b[0m\u001b[0;34m(\u001b[0m\u001b[0mcasted_key\u001b[0m\u001b[0;34m)\u001b[0m\u001b[0;34m\u001b[0m\u001b[0;34m\u001b[0m\u001b[0m\n\u001b[1;32m   2896\u001b[0m             \u001b[0;32mexcept\u001b[0m \u001b[0mKeyError\u001b[0m \u001b[0;32mas\u001b[0m \u001b[0merr\u001b[0m\u001b[0;34m:\u001b[0m\u001b[0;34m\u001b[0m\u001b[0;34m\u001b[0m\u001b[0m\n\u001b[0;32m-> 2897\u001b[0;31m                 \u001b[0;32mraise\u001b[0m \u001b[0mKeyError\u001b[0m\u001b[0;34m(\u001b[0m\u001b[0mkey\u001b[0m\u001b[0;34m)\u001b[0m \u001b[0;32mfrom\u001b[0m \u001b[0merr\u001b[0m\u001b[0;34m\u001b[0m\u001b[0;34m\u001b[0m\u001b[0m\n\u001b[0m\u001b[1;32m   2898\u001b[0m \u001b[0;34m\u001b[0m\u001b[0m\n\u001b[1;32m   2899\u001b[0m         \u001b[0;32mif\u001b[0m \u001b[0mtolerance\u001b[0m \u001b[0;32mis\u001b[0m \u001b[0;32mnot\u001b[0m \u001b[0;32mNone\u001b[0m\u001b[0;34m:\u001b[0m\u001b[0;34m\u001b[0m\u001b[0;34m\u001b[0m\u001b[0m\n",
      "\u001b[0;31mKeyError\u001b[0m: 'Ghausi_ChilledWater_Demand_kBtu'"
     ]
    }
   ],
   "source": [
    "df.plot(x='Ghausi_ChilledWater_Demand_kBtu', y='aiTIT4045', style='o')\n",
    "plt.title('Demand kBtu vs Air Temperature')\n",
    "plt.ylabel('Ghausi Demand kBtu')\n",
    "plt.xlabel('Air Temperature')\n",
    "plt.show()"
   ]
  },
  {
   "cell_type": "code",
   "execution_count": 110,
   "metadata": {},
   "outputs": [],
   "source": [
    "%matplotlib inline\n",
    "import numpy as np # imports a fast numerical programming library\n",
    "import scipy as sp #imports stats functions, amongst other things\n",
    "import matplotlib as mpl # this actually imports matplotlib\n",
    "import matplotlib.cm as cm #allows us easy access to colormaps\n",
    "import matplotlib.pyplot as plt #sets up plotting under plt\n",
    "import pandas as pd #lets us handle data as dataframes\n",
    "import seaborn as sns #sets up styles and gives us more plotting options\n",
    "from pandas.plotting import scatter_matrix\n",
    "from sklearn.preprocessing import LabelEncoder\n",
    "from sklearn.preprocessing import StandardScaler\n",
    "from sklearn.model_selection import train_test_split\n",
    "from sklearn.linear_model import LinearRegression\n",
    "from sklearn.metrics import mean_squared_error"
   ]
  },
  {
   "cell_type": "code",
   "execution_count": 111,
   "metadata": {},
   "outputs": [],
   "source": [
    "df.dropna(inplace=True)"
   ]
  },
  {
   "cell_type": "code",
   "execution_count": 112,
   "metadata": {},
   "outputs": [
    {
     "data": {
      "text/plain": [
       "False"
      ]
     },
     "execution_count": 112,
     "metadata": {},
     "output_type": "execute_result"
    }
   ],
   "source": [
    "df.isnull().values.any()"
   ]
  },
  {
   "cell_type": "code",
   "execution_count": 113,
   "metadata": {},
   "outputs": [],
   "source": [
    "# defining feature matrix(X) and response vector(y)\n",
    "df_y=df['Ghausi_ChilledWater_Demand_kBtu']\n",
    "df_x=df\n",
    "del df_x['Ghausi_ChilledWater_Demand_kBtu']"
   ]
  },
  {
   "cell_type": "code",
   "execution_count": 114,
   "metadata": {},
   "outputs": [],
   "source": [
    "from sklearn.model_selection import train_test_split as tts\n",
    "train_df_x, test_df_x, train_df_y, test_df_y = tts(df_x, df_y, random_state = 42, test_size=0.2, stratify = None)"
   ]
  },
  {
   "cell_type": "code",
   "execution_count": 115,
   "metadata": {},
   "outputs": [
    {
     "name": "stdout",
     "output_type": "stream",
     "text": [
      "Shape of train_df_x is (20708, 1)\n",
      "Shape of test_df_x is (5178, 1)\n",
      "Shape of train_df_y is (20708,)\n",
      "Shape of test_df_y is (5178,)\n"
     ]
    }
   ],
   "source": [
    "print(\"Shape of train_df_x is\",train_df_x.shape )\n",
    "print(\"Shape of test_df_x is\",test_df_x.shape )\n",
    "print(\"Shape of train_df_y is\",train_df_y.shape )\n",
    "print(\"Shape of test_df_y is\",test_df_y.shape )"
   ]
  },
  {
   "cell_type": "code",
   "execution_count": 116,
   "metadata": {},
   "outputs": [],
   "source": [
    "from sklearn.model_selection import train_test_split as tts\n",
    "train_x, val_x, train_y, val_y = tts(train_df_x, train_df_y, random_state = 42, test_size=0.2, stratify = None)"
   ]
  },
  {
   "cell_type": "code",
   "execution_count": 117,
   "metadata": {},
   "outputs": [
    {
     "name": "stdout",
     "output_type": "stream",
     "text": [
      "Shape of training set (16566, 1) (16566,)\n",
      "Shape of validation set (4142, 1) (4142,)\n",
      "Shape of test set (5178, 1) (5178,)\n"
     ]
    }
   ],
   "source": [
    "print(\"Shape of training set\",train_x.shape, train_y.shape)\n",
    "print(\"Shape of validation set\",val_x.shape, val_y.shape)\n",
    "print(\"Shape of test set\",test_df_x.shape, test_df_y.shape)"
   ]
  },
  {
   "cell_type": "code",
   "execution_count": 118,
   "metadata": {},
   "outputs": [],
   "source": [
    "# create linear regression object\n",
    "import sklearn\n",
    "from sklearn import linear_model\n",
    "from sklearn.linear_model import LinearRegression\n",
    "reg = linear_model.LinearRegression()"
   ]
  },
  {
   "cell_type": "code",
   "execution_count": 119,
   "metadata": {},
   "outputs": [
    {
     "data": {
      "text/plain": [
       "LinearRegression()"
      ]
     },
     "execution_count": 119,
     "metadata": {},
     "output_type": "execute_result"
    }
   ],
   "source": [
    "reg.fit(train_x, train_y)"
   ]
  },
  {
   "cell_type": "code",
   "execution_count": 120,
   "metadata": {},
   "outputs": [],
   "source": [
    "y_pred = reg.predict(test_df_x)"
   ]
  },
  {
   "cell_type": "code",
   "execution_count": 121,
   "metadata": {},
   "outputs": [
    {
     "data": {
      "image/png": "[encoded data removed]",
      "text/plain": [
       "<Figure size 432x288 with 1 Axes>"
      ]
     },
     "metadata": {
      "needs_background": "light"
     },
     "output_type": "display_data"
    }
   ],
   "source": [
    "plt.scatter(train_x, train_y, color = \"#89b0ae\")\n",
    "plt.plot(train_x, reg.predict(train_x), color = \"#555b6e\")\n",
    "plt.title(\"Air Temp vs Ghausi Demand kBtu (Training set)\")\n",
    "plt.xlabel(\"Air Temp\")\n",
    "plt.ylabel(\"Demand kBtu\")\n",
    "plt.show()"
   ]
  },
  {
   "cell_type": "code",
   "execution_count": 122,
   "metadata": {},
   "outputs": [
    {
     "data": {
      "image/png": "[encoded data removed]",
      "text/plain": [
       "<Figure size 432x288 with 1 Axes>"
      ]
     },
     "metadata": {
      "needs_background": "light"
     },
     "output_type": "display_data"
    }
   ],
   "source": [
    "plt.scatter(test_df_x, test_df_y, color = \"#89b0ae\")\n",
    "plt.plot(train_x, reg.predict(train_x), color = \"#555b6e\")\n",
    "plt.title(\"Air Temp vs Ghausi Demand kBtu (Testing set)\")\n",
    "plt.xlabel(\"Air Temp\")\n",
    "plt.ylabel(\"Demand kBtu\")\n",
    "plt.show()"
   ]
  },
  {
   "cell_type": "code",
   "execution_count": 123,
   "metadata": {},
   "outputs": [
    {
     "name": "stdout",
     "output_type": "stream",
     "text": [
      "Variance score: 0.7075053424727886\n"
     ]
    }
   ],
   "source": [
    "# variance score or the R-squared value: 1 means perfect prediction\n",
    "print('Variance score: {}'.format(reg.score(test_df_x, test_df_y)))"
   ]
  },
  {
   "cell_type": "code",
   "execution_count": 124,
   "metadata": {},
   "outputs": [
    {
     "name": "stdout",
     "output_type": "stream",
     "text": [
      "Coefficients: [37.80861685]\n",
      "Intercept: -1978.7540312760168\n"
     ]
    }
   ],
   "source": [
    "# regression coefficients\n",
    "print('Coefficients:',reg.coef_)\n",
    "# regression intercept\n",
    "print('Intercept:' ,reg.intercept_)"
   ]
  },
  {
   "cell_type": "code",
   "execution_count": 176,
   "metadata": {},
   "outputs": [
    {
     "name": "stdout",
     "output_type": "stream",
     "text": [
      "Mean Absolute Error: 599.4481251566497\n",
      "Mean Squared Error: 717271.3740689291\n",
      "Root Mean Squared Error: 846.918752932611\n",
      "R Squared Score is: -0.7095563924383519\n"
     ]
    }
   ],
   "source": [
    "import sklearn.metrics as metrics\n",
    "print('Mean Absolute Error:', metrics.mean_absolute_error(test_df_y, y_pred))\n",
    "print('Mean Squared Error:', metrics.mean_squared_error(test_df_y, y_pred))\n",
    "print('Root Mean Squared Error:', np.sqrt(metrics.mean_squared_error(test_df_y, y_pred)))\n",
    "print('R Squared Score is:', r2_score(test_df_y, y_pred))\n",
    "r1 = r2_score(y_test, y_pred)\n",
    "mse1 = metrics.mean_squared_error(y_test, y_pred)"
   ]
  },
  {
   "cell_type": "code",
   "execution_count": 126,
   "metadata": {},
   "outputs": [],
   "source": [
    "# # plot for residual error\n",
    " \n",
    "# ## setting plot style\n",
    "# plt.style.use('fivethirtyeight')\n",
    " \n",
    "# ## plotting residual errors in training data\n",
    "# plt.scatter(reg.predict(train_x), reg.predict(train_x) - train_y,\n",
    "#             color = \"#6D545D\", s = 10, label = 'Train data')\n",
    " \n",
    "# ## plotting residual errors in test data\n",
    "# plt.scatter(reg.predict(test_df_x), reg.predict(test_df_x) - test_df_y,\n",
    "#             color = \"#73BA9B\", s = 10, label = 'Test data')\n",
    " \n",
    "# ## plotting line for zero residual error\n",
    "# plt.hlines(y = 0, xmin = 0, xmax = 50, linewidth = 2)\n",
    " \n",
    "# ## plotting legend\n",
    "# plt.legend(loc = 'upper right')\n",
    " \n",
    "# ## plot title\n",
    "# plt.title(\"Residual errors\")\n",
    "\n",
    "# plt.xlabel(\"Predictor values\")\n",
    "# plt.ylabel(\"Residuals\")\n",
    "\n",
    " \n",
    "# ## function to show plot\n",
    "# plt.show()"
   ]
  },
  {
   "cell_type": "markdown",
   "metadata": {},
   "source": [
    "# 2. Decision Trees"
   ]
  },
  {
   "cell_type": "code",
   "execution_count": 127,
   "metadata": {},
   "outputs": [
    {
     "data": {
      "text/plain": [
       "['Ghausi_ChilledWater_Demand_kBtu', 'aiTIT4045']"
      ]
     },
     "execution_count": 127,
     "metadata": {},
     "output_type": "execute_result"
    }
   ],
   "source": [
    "# tags = pi.search_by_point(['aiTIT4045*'])\n",
    "\n",
    "tag1 = pi.search_by_point(['Ghausi_ChilledWater_Demand_kBtu','aiTIT4045' ])\n",
    "\n",
    "tag1"
   ]
  },
  {
   "cell_type": "markdown",
   "metadata": {},
   "source": [
    "# EDA"
   ]
  },
  {
   "cell_type": "code",
   "execution_count": 128,
   "metadata": {},
   "outputs": [
    {
     "name": "stdout",
     "output_type": "stream",
     "text": [
      "02:39:02: Sending API request... Chunk 1 of 1\n",
      "02:39:05: Response recieved for 2 tags! (3.2)\n"
     ]
    },
    {
     "data": {
      "text/html": [
       "<div>\n",
       "<style scoped>\n",
       "    .dataframe tbody tr th:only-of-type {\n",
       "        vertical-align: middle;\n",
       "    }\n",
       "\n",
       "    .dataframe tbody tr th {\n",
       "        vertical-align: top;\n",
       "    }\n",
       "\n",
       "    .dataframe thead th {\n",
       "        text-align: right;\n",
       "    }\n",
       "</style>\n",
       "<table border=\"1\" class=\"dataframe\">\n",
       "  <thead>\n",
       "    <tr style=\"text-align: right;\">\n",
       "      <th></th>\n",
       "      <th>Ghausi_ChilledWater_Demand_kBtu</th>\n",
       "      <th>aiTIT4045</th>\n",
       "    </tr>\n",
       "    <tr>\n",
       "      <th>Timestamp</th>\n",
       "      <th></th>\n",
       "      <th></th>\n",
       "    </tr>\n",
       "  </thead>\n",
       "  <tbody>\n",
       "    <tr>\n",
       "      <th>2017-03-01 00:00:00</th>\n",
       "      <td>0.0</td>\n",
       "      <td>44.861844</td>\n",
       "    </tr>\n",
       "    <tr>\n",
       "      <th>2017-03-01 01:00:00</th>\n",
       "      <td>0.0</td>\n",
       "      <td>42.978464</td>\n",
       "    </tr>\n",
       "    <tr>\n",
       "      <th>2017-03-01 02:00:00</th>\n",
       "      <td>0.0</td>\n",
       "      <td>42.432911</td>\n",
       "    </tr>\n",
       "    <tr>\n",
       "      <th>2017-03-01 03:00:00</th>\n",
       "      <td>0.0</td>\n",
       "      <td>42.335387</td>\n",
       "    </tr>\n",
       "    <tr>\n",
       "      <th>2017-03-01 04:00:00</th>\n",
       "      <td>0.0</td>\n",
       "      <td>42.585000</td>\n",
       "    </tr>\n",
       "  </tbody>\n",
       "</table>\n",
       "</div>"
      ],
      "text/plain": [
       "                     Ghausi_ChilledWater_Demand_kBtu  aiTIT4045\n",
       "Timestamp                                                      \n",
       "2017-03-01 00:00:00                              0.0  44.861844\n",
       "2017-03-01 01:00:00                              0.0  42.978464\n",
       "2017-03-01 02:00:00                              0.0  42.432911\n",
       "2017-03-01 03:00:00                              0.0  42.335387\n",
       "2017-03-01 04:00:00                              0.0  42.585000"
      ]
     },
     "execution_count": 128,
     "metadata": {},
     "output_type": "execute_result"
    }
   ],
   "source": [
    "# Required parameters\n",
    "start = '2017-03-01'\n",
    "end = '2020-03-01'    \n",
    "\n",
    "calc = 'summary' # Can be 'summary', 'interpolated', or 'recorded'\n",
    "interval = '1h' # Can be '15min', '1h', '1d', or '1mo'   \n",
    "\n",
    "# Extras\n",
    "chunk_size = 10\n",
    "weight = 'TimeWeighted'\n",
    "summary_calc = 'average' # Can be 'average', 'minimum', 'maximum', 'range', 'stddev', 'count', 'percentgood', 'max', 'total', 'none', 'all'\n",
    "max_count = round(1500000/len(tag1))\n",
    "\n",
    "df2 = pi.get_stream_by_point(tag1, start=start, end=end, _convert_cols=False, calculation=calc, \n",
    "                            interval=interval, _weight=weight, _summary_type=summary_calc, _max_count=max_count, \n",
    "                            _chunk_size=chunk_size)\n",
    "df2.head()"
   ]
  },
  {
   "cell_type": "markdown",
   "metadata": {},
   "source": [
    "# Clean"
   ]
  },
  {
   "cell_type": "code",
   "execution_count": 129,
   "metadata": {},
   "outputs": [],
   "source": [
    "df2.dropna(inplace=True)"
   ]
  },
  {
   "cell_type": "code",
   "execution_count": 130,
   "metadata": {},
   "outputs": [
    {
     "data": {
      "text/plain": [
       "False"
      ]
     },
     "execution_count": 130,
     "metadata": {},
     "output_type": "execute_result"
    }
   ],
   "source": [
    "df2.isnull().values.any()"
   ]
  },
  {
   "cell_type": "code",
   "execution_count": 131,
   "metadata": {},
   "outputs": [],
   "source": [
    "from sklearn.tree import DecisionTreeRegressor\n",
    "from sklearn.model_selection import train_test_split\n",
    "from sklearn.metrics import r2_score,mean_squared_error\n",
    "import seaborn as sns"
   ]
  },
  {
   "cell_type": "markdown",
   "metadata": {},
   "source": [
    "# Split"
   ]
  },
  {
   "cell_type": "code",
   "execution_count": 132,
   "metadata": {},
   "outputs": [],
   "source": [
    "y = df2.Ghausi_ChilledWater_Demand_kBtu\n",
    "x = df2.aiTIT4045\n",
    "x = x.values.reshape(-1, 1)\n",
    "y = y.values.reshape(-1, 1)\n",
    "x_train, x_test, y_train, y_test = train_test_split(x, y, test_size=0.20, random_state=42)"
   ]
  },
  {
   "cell_type": "code",
   "execution_count": 133,
   "metadata": {},
   "outputs": [
    {
     "data": {
      "text/plain": [
       "DecisionTreeRegressor(max_depth=5)"
      ]
     },
     "execution_count": 133,
     "metadata": {},
     "output_type": "execute_result"
    }
   ],
   "source": [
    "rt = DecisionTreeRegressor(criterion = 'mse', max_depth=5)\n",
    "rt"
   ]
  },
  {
   "cell_type": "code",
   "execution_count": 134,
   "metadata": {},
   "outputs": [],
   "source": [
    "model_r = rt.fit(x_train, y_train)"
   ]
  },
  {
   "cell_type": "code",
   "execution_count": 135,
   "metadata": {},
   "outputs": [
    {
     "data": {
      "text/plain": [
       "array([474.34518258, 170.98205912, 286.45955529, ..., 474.34518258,\n",
       "         9.25451844, 286.45955529])"
      ]
     },
     "execution_count": 135,
     "metadata": {},
     "output_type": "execute_result"
    }
   ],
   "source": [
    "y_pred = model_r.predict(x_test)\n",
    "y_pred"
   ]
  },
  {
   "cell_type": "markdown",
   "metadata": {},
   "source": [
    "# Compare Metrics"
   ]
  },
  {
   "cell_type": "code",
   "execution_count": 136,
   "metadata": {},
   "outputs": [
    {
     "name": "stdout",
     "output_type": "stream",
     "text": [
      "Mean Absolute Error: 168.40352284309563\n",
      "Mean Squared Error: 91058.98243661447\n",
      "Root Mean Squared Error: 301.7598091804382\n",
      "R Squared Score is: 0.7829685232935476\n"
     ]
    }
   ],
   "source": [
    "import sklearn.metrics as metrics\n",
    "print('Mean Absolute Error:', metrics.mean_absolute_error(y_test, y_pred))\n",
    "print('Mean Squared Error:', metrics.mean_squared_error(y_test, y_pred))\n",
    "print('Root Mean Squared Error:', np.sqrt(metrics.mean_squared_error(y_test, y_pred)))\n",
    "print('R Squared Score is:', r2_score(y_test, y_pred))\n",
    "r2 = r2_score(y_test, y_pred)\n",
    "mse2 = metrics.mean_squared_error(y_test, y_pred)"
   ]
  },
  {
   "cell_type": "code",
   "execution_count": 137,
   "metadata": {},
   "outputs": [
    {
     "name": "stdout",
     "output_type": "stream",
     "text": [
      "[62.41132467] 1.0\n"
     ]
    }
   ],
   "source": [
    "for importance, name in sorted(zip(rt.feature_importances_,\n",
    "                                   x_train),reverse=True):\n",
    "    print(name, importance)"
   ]
  },
  {
   "cell_type": "code",
   "execution_count": 138,
   "metadata": {},
   "outputs": [
    {
     "data": {
      "text/plain": [
       "DecisionTreeRegressor(random_state=0)"
      ]
     },
     "execution_count": 138,
     "metadata": {},
     "output_type": "execute_result"
    }
   ],
   "source": [
    "# import the regressor\n",
    "from sklearn.tree import DecisionTreeRegressor\n",
    "\n",
    "# create a regressor object\n",
    "regressor = DecisionTreeRegressor(random_state = 0)\n",
    "\n",
    "# fit the regressor with X and Y data\n",
    "regressor.fit(x, y)\n"
   ]
  },
  {
   "cell_type": "markdown",
   "metadata": {},
   "source": [
    "# Model"
   ]
  },
  {
   "cell_type": "code",
   "execution_count": 139,
   "metadata": {},
   "outputs": [
    {
     "data": {
      "image/png": "[encoded data removed]",
      "text/plain": [
       "<Figure size 432x288 with 1 Axes>"
      ]
     },
     "metadata": {
      "needs_background": "light"
     },
     "output_type": "display_data"
    }
   ],
   "source": [
    "# arange for creating a range of values\n",
    "# from min value of X to max value of X\n",
    "# with a difference of 0.01 between two\n",
    "# consecutive values\n",
    "X_grid = np.arange(min(x), max(x), 0.01)\n",
    "\n",
    "# reshape for reshaping the data into\n",
    "# a len(X_grid)*1 array, i.e. to make\n",
    "# a column out of the X_grid values\n",
    "X_grid = X_grid.reshape((len(X_grid), 1))\n",
    "\n",
    "# scatter plot for original data\n",
    "plt.scatter(x, y, color = '#E56B70', label = 'Original data')\n",
    "\n",
    "# plot predicted data\n",
    "plt.plot(X_grid, regressor.predict(X_grid),color = '#361134', label = 'Predicted data')\n",
    "\n",
    "\n",
    "# specify title\n",
    "plt.title('Decision Tree Regression')\n",
    "\n",
    "# specify X axis label\n",
    "plt.ylabel('Ghausi_ChilledWater_Demand_kBtu')\n",
    "\n",
    "# specify Y axis label\n",
    "plt.xlabel('aiTIT4045')\n",
    "\n",
    "plt.legend(loc = 'lower right')\n",
    "\n",
    "# show the plot\n",
    "plt.show()\n"
   ]
  },
  {
   "cell_type": "code",
   "execution_count": 140,
   "metadata": {},
   "outputs": [],
   "source": [
    "# import export_graphviz\n",
    "from sklearn.tree import export_graphviz \n",
    "  \n",
    "# export the decision tree to a tree.dot file\n",
    "# for visualizing the plot easily anywhere\n",
    "export_graphviz(regressor, out_file ='tree.dot',\n",
    "               feature_names =['Decision Tree'])"
   ]
  },
  {
   "cell_type": "markdown",
   "metadata": {},
   "source": [
    "# 3. Random Forest"
   ]
  },
  {
   "cell_type": "code",
   "execution_count": 141,
   "metadata": {},
   "outputs": [
    {
     "data": {
      "text/plain": [
       "['Ghausi_ChilledWater_Demand_kBtu', 'aiTIT4045']"
      ]
     },
     "execution_count": 141,
     "metadata": {},
     "output_type": "execute_result"
    }
   ],
   "source": [
    "# tags = pi.search_by_point(['aiTIT4045*'])\n",
    "\n",
    "tag3 = pi.search_by_point(['Ghausi_ChilledWater_Demand_kBtu','aiTIT4045' ])\n",
    "\n",
    "tag3"
   ]
  },
  {
   "cell_type": "code",
   "execution_count": 142,
   "metadata": {},
   "outputs": [
    {
     "name": "stdout",
     "output_type": "stream",
     "text": [
      "02:40:56: Sending API request... Chunk 1 of 1\n",
      "02:40:59: Response recieved for 2 tags! (2.68)\n"
     ]
    },
    {
     "data": {
      "text/html": [
       "<div>\n",
       "<style scoped>\n",
       "    .dataframe tbody tr th:only-of-type {\n",
       "        vertical-align: middle;\n",
       "    }\n",
       "\n",
       "    .dataframe tbody tr th {\n",
       "        vertical-align: top;\n",
       "    }\n",
       "\n",
       "    .dataframe thead th {\n",
       "        text-align: right;\n",
       "    }\n",
       "</style>\n",
       "<table border=\"1\" class=\"dataframe\">\n",
       "  <thead>\n",
       "    <tr style=\"text-align: right;\">\n",
       "      <th></th>\n",
       "      <th>Ghausi_ChilledWater_Demand_kBtu</th>\n",
       "      <th>aiTIT4045</th>\n",
       "    </tr>\n",
       "    <tr>\n",
       "      <th>Timestamp</th>\n",
       "      <th></th>\n",
       "      <th></th>\n",
       "    </tr>\n",
       "  </thead>\n",
       "  <tbody>\n",
       "    <tr>\n",
       "      <th>2017-03-01 00:00:00</th>\n",
       "      <td>0.0</td>\n",
       "      <td>44.861844</td>\n",
       "    </tr>\n",
       "    <tr>\n",
       "      <th>2017-03-01 01:00:00</th>\n",
       "      <td>0.0</td>\n",
       "      <td>42.978464</td>\n",
       "    </tr>\n",
       "    <tr>\n",
       "      <th>2017-03-01 02:00:00</th>\n",
       "      <td>0.0</td>\n",
       "      <td>42.432911</td>\n",
       "    </tr>\n",
       "    <tr>\n",
       "      <th>2017-03-01 03:00:00</th>\n",
       "      <td>0.0</td>\n",
       "      <td>42.335387</td>\n",
       "    </tr>\n",
       "    <tr>\n",
       "      <th>2017-03-01 04:00:00</th>\n",
       "      <td>0.0</td>\n",
       "      <td>42.585000</td>\n",
       "    </tr>\n",
       "  </tbody>\n",
       "</table>\n",
       "</div>"
      ],
      "text/plain": [
       "                     Ghausi_ChilledWater_Demand_kBtu  aiTIT4045\n",
       "Timestamp                                                      \n",
       "2017-03-01 00:00:00                              0.0  44.861844\n",
       "2017-03-01 01:00:00                              0.0  42.978464\n",
       "2017-03-01 02:00:00                              0.0  42.432911\n",
       "2017-03-01 03:00:00                              0.0  42.335387\n",
       "2017-03-01 04:00:00                              0.0  42.585000"
      ]
     },
     "execution_count": 142,
     "metadata": {},
     "output_type": "execute_result"
    }
   ],
   "source": [
    "# Required parameters\n",
    "start = '2017-03-01'\n",
    "end = '2020-03-01'    \n",
    "\n",
    "calc = 'summary' # Can be 'summary', 'interpolated', or 'recorded'\n",
    "interval = '1h' # Can be '15min', '1h', '1d', or '1mo'   \n",
    "\n",
    "# Extras\n",
    "chunk_size = 10\n",
    "weight = 'TimeWeighted'\n",
    "summary_calc = 'average' # Can be 'average', 'minimum', 'maximum', 'range', 'stddev', 'count', 'percentgood', 'max', 'total', 'none', 'all'\n",
    "max_count = round(1500000/len(tag3))\n",
    "\n",
    "features = pi.get_stream_by_point(tag3, start=start, end=end, _convert_cols=False, calculation=calc, \n",
    "                            interval=interval, _weight=weight, _summary_type=summary_calc, _max_count=max_count, \n",
    "                            _chunk_size=chunk_size)\n",
    "features.head()"
   ]
  },
  {
   "cell_type": "code",
   "execution_count": 143,
   "metadata": {},
   "outputs": [],
   "source": [
    "features.dropna(inplace=True)"
   ]
  },
  {
   "cell_type": "code",
   "execution_count": 144,
   "metadata": {},
   "outputs": [],
   "source": [
    "# Use numpy to convert to arrays\n",
    "import numpy as np\n",
    "# Labels are the values we want to predict\n",
    "labels = np.array(features['Ghausi_ChilledWater_Demand_kBtu']) #y\n",
    "# Remove the labels from the features\n",
    "# axis 1 refers to the columns\n",
    "features= features.drop('Ghausi_ChilledWater_Demand_kBtu', axis = 1) #x\n",
    "# Saving feature names for later use\n",
    "feature_list = list(features.columns)\n",
    "# Convert to numpy array\n",
    "features = np.array(features)"
   ]
  },
  {
   "cell_type": "markdown",
   "metadata": {},
   "source": [
    "# Split"
   ]
  },
  {
   "cell_type": "code",
   "execution_count": 145,
   "metadata": {},
   "outputs": [],
   "source": [
    "# Using Skicit-learn to split data into training and testing sets\n",
    "from sklearn.model_selection import train_test_split\n",
    "# Split the data into training and testing sets\n",
    "train_features, test_features, train_labels, test_labels = train_test_split(features, labels, test_size = 0.25, random_state = 42)"
   ]
  },
  {
   "cell_type": "code",
   "execution_count": 146,
   "metadata": {},
   "outputs": [
    {
     "name": "stdout",
     "output_type": "stream",
     "text": [
      "Training Features Shape: (19414, 1)\n",
      "Training Labels Shape: (19414,)\n",
      "Testing Features Shape: (6472, 1)\n",
      "Testing Labels Shape: (6472,)\n"
     ]
    }
   ],
   "source": [
    "print('Training Features Shape:', train_features.shape)\n",
    "print('Training Labels Shape:', train_labels.shape)\n",
    "print('Testing Features Shape:', test_features.shape)\n",
    "print('Testing Labels Shape:', test_labels.shape)"
   ]
  },
  {
   "cell_type": "code",
   "execution_count": 147,
   "metadata": {},
   "outputs": [
    {
     "name": "stdout",
     "output_type": "stream",
     "text": [
      "Average baseline error:  440.4\n"
     ]
    }
   ],
   "source": [
    "# The baseline predictions are the historical averages\n",
    "baseline_preds = test_features[:, feature_list.index('aiTIT4045')]\n",
    "# Baseline errors, and display average baseline error\n",
    "baseline_errors = abs(baseline_preds - test_labels)\n",
    "print('Average baseline error: ', round(np.mean(baseline_errors), 2))"
   ]
  },
  {
   "cell_type": "markdown",
   "metadata": {},
   "source": [
    "# Model"
   ]
  },
  {
   "cell_type": "code",
   "execution_count": 148,
   "metadata": {},
   "outputs": [],
   "source": [
    "# Import the model we are using\n",
    "from sklearn.ensemble import RandomForestRegressor\n",
    "# Instantiate model with 1000 decision trees\n",
    "rf = RandomForestRegressor(n_estimators = 1000, random_state = 42)\n",
    "# Train the model on training data\n",
    "rf.fit(train_features, train_labels);"
   ]
  },
  {
   "cell_type": "markdown",
   "metadata": {},
   "source": [
    "# Metrics"
   ]
  },
  {
   "cell_type": "code",
   "execution_count": 149,
   "metadata": {},
   "outputs": [
    {
     "name": "stdout",
     "output_type": "stream",
     "text": [
      "Mean Absolute Error: 206.53\n"
     ]
    }
   ],
   "source": [
    "# Use the forest's predict method on the test data\n",
    "predictions = rf.predict(test_features)\n",
    "# Calculate the absolute errors\n",
    "errors = abs(predictions - test_labels)\n",
    "# Print out the mean absolute error (mae)\n",
    "print('Mean Absolute Error:', round(np.mean(errors), 2))"
   ]
  },
  {
   "cell_type": "code",
   "execution_count": 150,
   "metadata": {},
   "outputs": [],
   "source": [
    "y_pred = rf.predict(test_features)"
   ]
  },
  {
   "cell_type": "code",
   "execution_count": 151,
   "metadata": {},
   "outputs": [
    {
     "name": "stdout",
     "output_type": "stream",
     "text": [
      "Mean Absolute Error: 206.5314019551227\n",
      "Mean Squared Error: 131690.14130151525\n",
      "Root Mean Squared Error: 362.8913629469779\n",
      "R Squared Score is: 0.6890846651462503\n"
     ]
    }
   ],
   "source": [
    "import sklearn.metrics as metrics\n",
    "print('Mean Absolute Error:', metrics.mean_absolute_error(test_labels, y_pred))\n",
    "print('Mean Squared Error:', metrics.mean_squared_error(test_labels, y_pred))\n",
    "print('Root Mean Squared Error:', np.sqrt(metrics.mean_squared_error(test_labels, y_pred)))\n",
    "print('R Squared Score is:', r2_score(test_labels, y_pred))\n",
    "r3 = r2_score(test_labels, y_pred)\n",
    "mse3 = metrics.mean_squared_error(test_labels, y_pred)"
   ]
  },
  {
   "cell_type": "markdown",
   "metadata": {},
   "source": [
    "# 4. Neural Networks"
   ]
  },
  {
   "cell_type": "code",
   "execution_count": 152,
   "metadata": {},
   "outputs": [
    {
     "name": "stdout",
     "output_type": "stream",
     "text": [
      "Automatically created module for IPython interactive environment\n"
     ]
    }
   ],
   "source": [
    "print(__doc__)\n",
    "\n",
    "import pandas as pd\n",
    "import matplotlib.pyplot as plt\n",
    "from sklearn.datasets import load_diabetes\n",
    "from sklearn.neural_network import MLPRegressor\n",
    "from sklearn.preprocessing import StandardScaler\n",
    "from sklearn.pipeline import make_pipeline\n",
    "from sklearn.tree import DecisionTreeRegressor\n",
    "from sklearn.inspection import plot_partial_dependence"
   ]
  },
  {
   "cell_type": "code",
   "execution_count": 153,
   "metadata": {},
   "outputs": [
    {
     "data": {
      "text/plain": [
       "['Ghausi_ChilledWater_Demand_kBtu', 'aiTIT4045']"
      ]
     },
     "execution_count": 153,
     "metadata": {},
     "output_type": "execute_result"
    }
   ],
   "source": [
    "# tags = pi.search_by_point(['aiTIT4045*'])\n",
    "\n",
    "tag4 = pi.search_by_point(['Ghausi_ChilledWater_Demand_kBtu','aiTIT4045' ])\n",
    "\n",
    "tag4"
   ]
  },
  {
   "cell_type": "code",
   "execution_count": 154,
   "metadata": {},
   "outputs": [
    {
     "name": "stdout",
     "output_type": "stream",
     "text": [
      "02:41:28: Sending API request... Chunk 1 of 1\n",
      "02:41:31: Response recieved for 2 tags! (2.78)\n"
     ]
    },
    {
     "data": {
      "text/html": [
       "<div>\n",
       "<style scoped>\n",
       "    .dataframe tbody tr th:only-of-type {\n",
       "        vertical-align: middle;\n",
       "    }\n",
       "\n",
       "    .dataframe tbody tr th {\n",
       "        vertical-align: top;\n",
       "    }\n",
       "\n",
       "    .dataframe thead th {\n",
       "        text-align: right;\n",
       "    }\n",
       "</style>\n",
       "<table border=\"1\" class=\"dataframe\">\n",
       "  <thead>\n",
       "    <tr style=\"text-align: right;\">\n",
       "      <th></th>\n",
       "      <th>Ghausi_ChilledWater_Demand_kBtu</th>\n",
       "      <th>aiTIT4045</th>\n",
       "    </tr>\n",
       "    <tr>\n",
       "      <th>Timestamp</th>\n",
       "      <th></th>\n",
       "      <th></th>\n",
       "    </tr>\n",
       "  </thead>\n",
       "  <tbody>\n",
       "    <tr>\n",
       "      <th>2017-03-01 00:00:00</th>\n",
       "      <td>0.0</td>\n",
       "      <td>44.861844</td>\n",
       "    </tr>\n",
       "    <tr>\n",
       "      <th>2017-03-01 01:00:00</th>\n",
       "      <td>0.0</td>\n",
       "      <td>42.978464</td>\n",
       "    </tr>\n",
       "    <tr>\n",
       "      <th>2017-03-01 02:00:00</th>\n",
       "      <td>0.0</td>\n",
       "      <td>42.432911</td>\n",
       "    </tr>\n",
       "    <tr>\n",
       "      <th>2017-03-01 03:00:00</th>\n",
       "      <td>0.0</td>\n",
       "      <td>42.335387</td>\n",
       "    </tr>\n",
       "    <tr>\n",
       "      <th>2017-03-01 04:00:00</th>\n",
       "      <td>0.0</td>\n",
       "      <td>42.585000</td>\n",
       "    </tr>\n",
       "  </tbody>\n",
       "</table>\n",
       "</div>"
      ],
      "text/plain": [
       "                     Ghausi_ChilledWater_Demand_kBtu  aiTIT4045\n",
       "Timestamp                                                      \n",
       "2017-03-01 00:00:00                              0.0  44.861844\n",
       "2017-03-01 01:00:00                              0.0  42.978464\n",
       "2017-03-01 02:00:00                              0.0  42.432911\n",
       "2017-03-01 03:00:00                              0.0  42.335387\n",
       "2017-03-01 04:00:00                              0.0  42.585000"
      ]
     },
     "execution_count": 154,
     "metadata": {},
     "output_type": "execute_result"
    }
   ],
   "source": [
    "# Required parameters\n",
    "start = '2017-03-01'\n",
    "end = '2020-03-01'    \n",
    "\n",
    "calc = 'summary' # Can be 'summary', 'interpolated', or 'recorded'\n",
    "interval = '1h' # Can be '15min', '1h', '1d', or '1mo'   \n",
    "\n",
    "# Extras\n",
    "chunk_size = 10\n",
    "weight = 'TimeWeighted'\n",
    "summary_calc = 'average' # Can be 'average', 'minimum', 'maximum', 'range', 'stddev', 'count', 'percentgood', 'max', 'total', 'none', 'all'\n",
    "max_count = round(1500000/len(tag4))\n",
    "\n",
    "dff = pi.get_stream_by_point(tag4, start=start, end=end, _convert_cols=False, calculation=calc, \n",
    "                            interval=interval, _weight=weight, _summary_type=summary_calc, _max_count=max_count, \n",
    "                            _chunk_size=chunk_size)\n",
    "dff.head()"
   ]
  },
  {
   "cell_type": "markdown",
   "metadata": {},
   "source": [
    "# Clean"
   ]
  },
  {
   "cell_type": "code",
   "execution_count": 155,
   "metadata": {},
   "outputs": [],
   "source": [
    "dff.dropna(inplace=True)"
   ]
  },
  {
   "cell_type": "code",
   "execution_count": 156,
   "metadata": {},
   "outputs": [],
   "source": [
    "from sklearn.neural_network import MLPRegressor\n",
    "from sklearn.model_selection import train_test_split\n",
    "from sklearn.datasets import fetch_california_housing\n",
    "from sklearn.preprocessing import StandardScaler\n",
    "from sklearn.metrics import r2_score\n",
    "import pandas as pd"
   ]
  },
  {
   "cell_type": "markdown",
   "metadata": {},
   "source": [
    "# Split"
   ]
  },
  {
   "cell_type": "code",
   "execution_count": 157,
   "metadata": {},
   "outputs": [],
   "source": [
    "# Use numpy to convert to arrays\n",
    "import numpy as np\n",
    "# Labels are the values we want to predict\n",
    "y = np.array(dff['Ghausi_ChilledWater_Demand_kBtu'])\n",
    "# Remove the labels from the features\n",
    "# axis 1 refers to the columns\n",
    "X = dff.drop('Ghausi_ChilledWater_Demand_kBtu', axis = 1)\n",
    "# Saving feature names for later use\n",
    "feature_list = list(dff.columns)\n",
    "# Convert to numpy array\n",
    "dff = np.array(dff)\n",
    "X_train, X_test, y_train, y_test = train_test_split(X, y,random_state=1, test_size=0.2)"
   ]
  },
  {
   "cell_type": "code",
   "execution_count": 158,
   "metadata": {},
   "outputs": [],
   "source": [
    "sc_X = StandardScaler()\n",
    "X_trainscaled=sc_X.fit_transform(X_train)\n",
    "X_testscaled=sc_X.transform(X_test)"
   ]
  },
  {
   "cell_type": "markdown",
   "metadata": {},
   "source": [
    "# Model"
   ]
  },
  {
   "cell_type": "code",
   "execution_count": 159,
   "metadata": {},
   "outputs": [],
   "source": [
    "reg = MLPRegressor(hidden_layer_sizes=(64,64,64),activation=\"relu\" ,random_state=1, max_iter=2000).fit(X_trainscaled, y_train)"
   ]
  },
  {
   "cell_type": "markdown",
   "metadata": {},
   "source": [
    "# Metrics"
   ]
  },
  {
   "cell_type": "code",
   "execution_count": 160,
   "metadata": {},
   "outputs": [],
   "source": [
    "y_pred=reg.predict(X_testscaled)"
   ]
  },
  {
   "cell_type": "code",
   "execution_count": 161,
   "metadata": {},
   "outputs": [
    {
     "name": "stdout",
     "output_type": "stream",
     "text": [
      "Mean Absolute Error: 169.77371211654733\n",
      "Mean Squared Error: 93370.09835786565\n",
      "Root Mean Squared Error: 305.5652113017214\n",
      "R Squared Score is: 0.7708383122897412\n"
     ]
    }
   ],
   "source": [
    "import sklearn.metrics as metrics\n",
    "print('Mean Absolute Error:', metrics.mean_absolute_error(y_test, y_pred))\n",
    "print('Mean Squared Error:', metrics.mean_squared_error(y_test, y_pred))\n",
    "print('Root Mean Squared Error:', np.sqrt(metrics.mean_squared_error(y_test, y_pred)))\n",
    "print('R Squared Score is:', r2_score(y_test, y_pred))\n",
    "r4 = r2_score(y_test, y_pred)\n",
    "mse4 = metrics.mean_squared_error(y_test, y_pred)"
   ]
  },
  {
   "cell_type": "markdown",
   "metadata": {},
   "source": [
    "# Struggled with creating visuals for Random Forest and Neural Networks"
   ]
  },
  {
   "cell_type": "code",
   "execution_count": 162,
   "metadata": {},
   "outputs": [],
   "source": [
    "#r2 and mse plots of each function bar plots higher r^2 is better \n",
    "#lower mse is better like 0\n",
    "#which method is best"
   ]
  },
  {
   "cell_type": "code",
   "execution_count": 175,
   "metadata": {},
   "outputs": [
    {
     "data": {
      "image/png": "[encoded data removed]",
      "text/plain": [
       "<Figure size 720x360 with 1 Axes>"
      ]
     },
     "metadata": {
      "needs_background": "light"
     },
     "output_type": "display_data"
    }
   ],
   "source": [
    "import numpy as np\n",
    "import matplotlib.pyplot as plt\n",
    "\n",
    "\n",
    "# creating the dataset\n",
    "data = {'Linear Reg':r1, 'Decision Tree':r2, 'Random Forest':r3,\n",
    "\t\t'Neural Networks':r4}\n",
    "courses = list(data.keys())\n",
    "values = list(data.values())\n",
    "\n",
    "fig = plt.figure(figsize = (10, 5))\n",
    "\n",
    "# creating the bar plot\n",
    "plt.bar(courses, values, color =['#d4e09b','#cbdfbd', '#f19c79', '#a44a3f'],\n",
    "\t\twidth = 0.4)\n",
    "\n",
    "plt.xlabel(\"Method \")\n",
    "plt.ylabel(\"R Squared Scores\")\n",
    "plt.title(\"R Squared per Method\")\n",
    "plt.show()\n"
   ]
  },
  {
   "cell_type": "code",
   "execution_count": 178,
   "metadata": {},
   "outputs": [
    {
     "data": {
      "image/png": "[encoded data removed]",
      "text/plain": [
       "<Figure size 720x360 with 1 Axes>"
      ]
     },
     "metadata": {
      "needs_background": "light"
     },
     "output_type": "display_data"
    }
   ],
   "source": [
    "import numpy as np\n",
    "import matplotlib.pyplot as plt\n",
    "\n",
    "\n",
    "# creating the dataset\n",
    "data = {'Linear Reg':mse1, 'Decision Tree':mse2, 'Random Forest':mse3,\n",
    "\t\t'Neural Networks':mse4}\n",
    "courses = list(data.keys())\n",
    "values = list(data.values())\n",
    "\n",
    "fig = plt.figure(figsize = (10, 5))\n",
    "\n",
    "# creating the bar plot\n",
    "plt.bar(courses, values, color =['#d4e09b','#cbdfbd', '#f19c79', '#a44a3f'],\n",
    "\t\twidth = 0.4)\n",
    "\n",
    "plt.xlabel(\"Method \")\n",
    "plt.ylabel(\"MSE\")\n",
    "plt.title(\"MSE per Method\")\n",
    "plt.show()\n"
   ]
  },
  {
   "cell_type": "markdown",
   "metadata": {},
   "source": [
    "# Decision Tree is best method since its R^2 score is the highest and it's best for MSE since it has the lowest MSE"
   ]
  },
  {
   "cell_type": "code",
   "execution_count": 1,
   "metadata": {},
   "outputs": [
    {
     "data": {
      "text/plain": [
       "['/Users/sanab/Desktop/eco-tools/Projects',\n",
       " '/Users/sanab/opt/anaconda3/lib/python38.zip',\n",
       " '/Users/sanab/opt/anaconda3/lib/python3.8',\n",
       " '/Users/sanab/opt/anaconda3/lib/python3.8/lib-dynload',\n",
       " '',\n",
       " '/Users/sanab/.local/lib/python3.8/site-packages',\n",
       " '/Users/sanab/opt/anaconda3/lib/python3.8/site-packages',\n",
       " '/Users/sanab/opt/anaconda3/lib/python3.8/site-packages/aeosa',\n",
       " '/Users/sanab/opt/anaconda3/lib/python3.8/site-packages/IPython/extensions',\n",
       " '/Users/sanab/.ipython']"
      ]
     },
     "execution_count": 1,
     "metadata": {},
     "output_type": "execute_result"
    }
   ],
   "source": [
    "import sys \n",
    "sys.path"
   ]
  },
  {
   "cell_type": "code",
   "execution_count": null,
   "metadata": {},
   "outputs": [],
   "source": []
  }
 ],
 "metadata": {
  "kernelspec": {
   "display_name": "Python 3",
   "language": "python",
   "name": "python3"
  },
  "language_info": {
   "codemirror_mode": {
    "name": "ipython",
    "version": 3
   },
   "file_extension": ".py",
   "mimetype": "text/x-python",
   "name": "python",
   "nbconvert_exporter": "python",
   "pygments_lexer": "ipython3",
   "version": "3.8.5"
  }
 },
 "nbformat": 4,
 "nbformat_minor": 2
}
